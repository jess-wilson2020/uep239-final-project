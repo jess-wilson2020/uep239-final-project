{
 "cells": [
  {
   "cell_type": "markdown",
   "id": "8ed74958-5876-4e38-8ceb-1c4ce6bb8799",
   "metadata": {},
   "source": [
    "# UEP 239 Final Project\n",
    "#### Jess Wilson - May 2021\n",
    "\n",
    "---\n",
    "\n",
    "### Goal of Project:\n",
    "- Discover the most suitable zip code tabulation areas (ZCTAs) for young professionals to move to in Metro Boston. \n",
    "\n",
    "### Suitability Indicator Variables: \n",
    "1. Mean rent payment (USD)\n",
    "2. Population density (population per square km)\n",
    "3. Proximity to farmer's markets (km)\n",
    "4. Transit stop density (stop per square km)\n",
    "5. Proximity to supermarkets (km)\n",
    "\n",
    "---\n",
    "\n",
    "#### Instructions on How to Run:\n",
    "- All instructions can be found in the README.md, including how to load and run environment and download necessary datasets \n",
    "- Environment (environment.yml) and data directory (uep239-final-project-data) are located in repository"
   ]
  },
  {
   "cell_type": "markdown",
   "id": "b1396488-86d2-4687-b280-c0de0877da01",
   "metadata": {},
   "source": [
    "---\n",
    "\n",
    "#### Importing Relevant Libraries:"
   ]
  },
  {
   "cell_type": "code",
   "execution_count": 2,
   "id": "b46c1b99-a522-4d16-bfd4-37bbb10c3c80",
   "metadata": {},
   "outputs": [],
   "source": [
    "import numpy as np               # Load numpy, for scientific computing\n",
    "import pandas as pd              # Load pandas, for data frame manipulation \n",
    "#import geopandas as gpd          # Load geopandas, for pandas manipulation with geospatial components\n",
    "import matplotlib.pyplot as plt  # Load matplotlib, for plotting and mappingdata\n",
    "import seaborn as sns            # Load seaborn, for additional plotting features \n",
    "import folium                    # Load folium, for interactive maps\n",
    "import os                        # Load OS, for operating system work\n",
    "import contextily as cx          # Load contextily, for basemaps"
   ]
  },
  {
   "cell_type": "markdown",
   "id": "34e851a0-c320-4487-b567-e92139ce79ea",
   "metadata": {},
   "source": [
    "---\n",
    "\n",
    "#### Setting Working Directory:"
   ]
  },
  {
   "cell_type": "code",
   "execution_count": 3,
   "id": "a3717069-edcb-4d77-a9fc-d53713bfeb5f",
   "metadata": {},
   "outputs": [
    {
     "name": "stdout",
     "output_type": "stream",
     "text": [
      "Path changed to: C:\\Users\\tiago\\OneDrive\\Documentos\\GPwP\\uep239-final-project\\uep239-final-project-data\n"
     ]
    }
   ],
   "source": [
    "# Pass the raw string (r) path of the directory in which you downloaded the project data\n",
    "os.chdir(os.path.dirname(r\"C:/Users/tiago/OneDrive/Documentos/GPwP/uep239-final-project/uep239-final-project-data/\"))\n",
    "# Print working directory\n",
    "print(\"Path changed to: \"+os.getcwd())"
   ]
  },
  {
   "cell_type": "markdown",
   "id": "7c224b48-182e-4f08-8d3e-92f6d4397aa5",
   "metadata": {},
   "source": [
    "---\n",
    "\n",
    "#### Reading in Relevant Data:"
   ]
  },
  {
   "cell_type": "code",
   "execution_count": null,
   "id": "89b0c847-78a0-47a6-acdd-d3a5b75a987d",
   "metadata": {},
   "outputs": [],
   "source": [
    "#Read in csv tabular data:\n",
    "\n",
    "# ZCTA population:\n",
    "population_raw = pd.read_csv(r\"tabular/Population/population.csv\")\n",
    "# Median monthly rent:\n",
    "rent_raw = pd.read_csv(r\"tabular/Rent/rent.csv\")\n",
    "# Grocery stores:\n",
    "grocery_raw = pd.read_csv(r\"tabular/Supermarkets/supermarkets.csv\")\n",
    "\n",
    "\n",
    "# Read in shp geospatial data:\n",
    "\n",
    "# MPO boundaries:\n",
    "mpo_raw = gpd.read_file(r\"vector/MPO_Boundaries/mpo_boundaries.shp\")\n",
    "# MA town boundaries:\n",
    "town_raw = gpd.read_file(r\"vector/Town_Boundaries/town_boundaries.shp\")\n",
    "# ZCTA boundaries:\n",
    "zcta_raw = gpd.read_file(r\"vector/ZCTA_Boundaries/zcta.shp\")\n",
    "# Bus stops:\n",
    "bus_raw = gpd.read_file(r\"vector/Bus_Stops/bus_stops.shp\")\n",
    "# Transit stops:\n",
    "transit_raw = gpd.read_file(r\"vector/Transit_Stops/transit_stops.shp\")\n",
    "# Farmer's markets:\n",
    "market_raw = gpd.read_file(r\"vector/Farmers_Markets/farmers_markets.shp\")"
   ]
  },
  {
   "cell_type": "markdown",
   "id": "a532fffd-1180-437c-90b4-24668f523c02",
   "metadata": {},
   "source": [
    "---\n",
    "\n",
    "#### Data Cleaning:"
   ]
  },
  {
   "cell_type": "code",
   "execution_count": null,
   "id": "77ddf3d2-50bf-4031-9ffb-a1012d9affa6",
   "metadata": {},
   "outputs": [],
   "source": [
    "population_raw.info()\n",
    "population_raw.head()\n",
    "population = "
   ]
  },
  {
   "cell_type": "code",
   "execution_count": null,
   "id": "80110881-346a-4a87-b9ad-ba658c79d168",
   "metadata": {},
   "outputs": [],
   "source": [
    "rent_raw.info()\n",
    "rent_raw.head()\n",
    "rent = "
   ]
  },
  {
   "cell_type": "code",
   "execution_count": null,
   "id": "8ca6f68c-d5c6-42a3-943a-afd28fbb970c",
   "metadata": {},
   "outputs": [],
   "source": [
    "grocery_raw.info()\n",
    "grocery_raw.head()\n",
    "grocery = "
   ]
  },
  {
   "cell_type": "code",
   "execution_count": null,
   "id": "8180d4e1-062e-4643-82c7-a2b52d95cb68",
   "metadata": {},
   "outputs": [],
   "source": [
    "mpo_raw.info()\n",
    "mpo_raw.head()\n",
    "mpo = "
   ]
  },
  {
   "cell_type": "code",
   "execution_count": null,
   "id": "d7c146d5-0e71-4de0-a33e-7b450255fa04",
   "metadata": {},
   "outputs": [],
   "source": [
    "town_raw.info()\n",
    "town_raw.head()\n",
    "town = "
   ]
  },
  {
   "cell_type": "code",
   "execution_count": null,
   "id": "79ab014b-dd5d-4392-82b7-c66265bf4c71",
   "metadata": {},
   "outputs": [],
   "source": [
    "zcta_raw.info()\n",
    "zcta_raw.head()\n",
    "zcta = "
   ]
  },
  {
   "cell_type": "code",
   "execution_count": null,
   "id": "386e04e4-42a0-477e-933b-0a97f2a16f19",
   "metadata": {},
   "outputs": [],
   "source": [
    "bus_raw.info()\n",
    "bus_raw.head()\n",
    "bus = "
   ]
  },
  {
   "cell_type": "code",
   "execution_count": null,
   "id": "5742c0fd-14ce-4579-9d56-88da4b9260f3",
   "metadata": {},
   "outputs": [],
   "source": [
    "transit_raw.info()\n",
    "transit_raw.head()\n",
    "transit = "
   ]
  },
  {
   "cell_type": "code",
   "execution_count": null,
   "id": "7e4c8098-18bb-4870-9395-cae474529000",
   "metadata": {},
   "outputs": [],
   "source": [
    "market_raw.info()\n",
    "market_raw.head()\n",
    "market = "
   ]
  },
  {
   "cell_type": "markdown",
   "id": "7255a2f1-74d1-4c1d-b18c-34dc6ff4b3e4",
   "metadata": {},
   "source": [
    "---\n",
    "\n",
    "#### Data Manipulation, Joining, and Reprojecting:"
   ]
  },
  {
   "cell_type": "code",
   "execution_count": 4,
   "id": "86d942dd-955a-4498-aa59-99540badb2b8",
   "metadata": {},
   "outputs": [],
   "source": [
    "# join MPO with zcta (intersect) and join zcta with town (keep all)\n",
    "# population and rent joined to zcta \n",
    "# join transit with bus (keep all)\n",
    "# convert grocery to gpd using lat/lon"
   ]
  },
  {
   "cell_type": "markdown",
   "id": "37093c4f-adb6-431d-871f-685e12afbaa6",
   "metadata": {},
   "source": [
    "---\n",
    "\n",
    "#### Creation of Basemap:"
   ]
  },
  {
   "cell_type": "code",
   "execution_count": null,
   "id": "a4c75eb4-bc9e-4bc8-9318-55e8c67fc9e6",
   "metadata": {},
   "outputs": [],
   "source": [
    "# zcta map feat. town and mpo\n",
    "# use contextily (cx)"
   ]
  },
  {
   "cell_type": "markdown",
   "id": "6a2c2f80-403d-43a9-92e7-7b37c53cfc83",
   "metadata": {},
   "source": [
    "---\n",
    "\n",
    "#### Analysis of Suitability Indicator Variables:\n",
    "\n",
    "1. Mean rent payment (USD)\n",
    "2. Population density (population per square km)\n",
    "3. Proximity to farmer's markets (km)\n",
    "4. Transit stop density (stop per square km)\n",
    "5. Proximity to supermarkets (km)"
   ]
  },
  {
   "cell_type": "markdown",
   "id": "a897a216-82a9-45bc-b51b-d124805d5a26",
   "metadata": {},
   "source": [
    "---\n",
    "\n",
    "**1. Mean rent payment (USD):**"
   ]
  },
  {
   "cell_type": "code",
   "execution_count": null,
   "id": "882d8bf4-bd28-42f2-97f3-64e04219c73a",
   "metadata": {},
   "outputs": [],
   "source": [
    "# Visualize spatial data - median rent per ZCTA:"
   ]
  },
  {
   "cell_type": "code",
   "execution_count": null,
   "id": "122682d2-0115-4f38-ae49-75700a36f0a7",
   "metadata": {},
   "outputs": [],
   "source": [
    "# Summarize indicator values - mean/median rent per ZCTA:"
   ]
  },
  {
   "cell_type": "code",
   "execution_count": null,
   "id": "1f409e08-2a89-4c32-8a25-90b83e5deba9",
   "metadata": {},
   "outputs": [],
   "source": [
    "# Visualize mean/med rent per ZCTA"
   ]
  },
  {
   "cell_type": "code",
   "execution_count": null,
   "id": "1025449c-e25d-4bf2-bd24-eacad11f25f0",
   "metadata": {},
   "outputs": [],
   "source": [
    "# Produce ZCTA ranking based on mean/med rent, report highest and lowest ranking ZCTAs (e.g. top 5 and bottom 5)"
   ]
  },
  {
   "cell_type": "code",
   "execution_count": null,
   "id": "a5a26932-1ef8-415c-beff-8883d2b6ef72",
   "metadata": {},
   "outputs": [],
   "source": [
    "# Convert indicator values into suitability score by normalizing values into suitability index ranging from zero to one"
   ]
  },
  {
   "cell_type": "markdown",
   "id": "421111d6-fb6c-42bf-aabe-872aadb33e7b",
   "metadata": {},
   "source": [
    "---\n",
    "\n",
    "**2. Population density (population per square km):**"
   ]
  },
  {
   "cell_type": "code",
   "execution_count": null,
   "id": "43aa927f-da7d-41be-a51a-8f009bf98b1e",
   "metadata": {},
   "outputs": [],
   "source": [
    "# Visualize spatial data - population per ZCTA"
   ]
  },
  {
   "cell_type": "code",
   "execution_count": null,
   "id": "7cd6a934-4e5c-46ab-b54a-e46fc43fda50",
   "metadata": {},
   "outputs": [],
   "source": [
    "# Summarize indicator values - population per square km per ZCTA:\n",
    "# Density per ZCTA function"
   ]
  },
  {
   "cell_type": "code",
   "execution_count": null,
   "id": "a0424345-edd6-44ac-aa70-3ee81cb7102b",
   "metadata": {},
   "outputs": [],
   "source": [
    "# Visualize pop density per ZCTA"
   ]
  },
  {
   "cell_type": "code",
   "execution_count": null,
   "id": "20cd1c2e-3f65-4c63-868a-fcc502775e62",
   "metadata": {},
   "outputs": [],
   "source": [
    "# Produce ZCTA ranking based on mean/med rent, report highest and lowest ranking ZCTAs (e.g. top 5 and bottom 5)"
   ]
  },
  {
   "cell_type": "code",
   "execution_count": null,
   "id": "24004eba-bd7a-4be6-9735-8461872c2599",
   "metadata": {},
   "outputs": [],
   "source": [
    "# Convert indicator values into suitability score by normalizing values into suitability index ranging from zero to one"
   ]
  },
  {
   "cell_type": "markdown",
   "id": "16b3b5f4-925d-4522-b388-3fbac2e0feb9",
   "metadata": {},
   "source": [
    "---\n",
    "\n",
    "**3. Proximity to farmer's markets (km):**"
   ]
  },
  {
   "cell_type": "code",
   "execution_count": null,
   "id": "253be528-4b43-4488-a3ef-37e9fc5f6b13",
   "metadata": {},
   "outputs": [],
   "source": [
    "# Visualize spatial data - farmer's market locations:"
   ]
  },
  {
   "cell_type": "code",
   "execution_count": null,
   "id": "1df80e97-0aaa-4697-92e9-6f3aa5a6c5b8",
   "metadata": {},
   "outputs": [],
   "source": [
    "# Summarize indicator values - closest farmer's market per ZCTA (euc dis):\n",
    "# Closest POI function"
   ]
  },
  {
   "cell_type": "code",
   "execution_count": null,
   "id": "d2ce0839-2266-425a-8304-34d1fd138d69",
   "metadata": {},
   "outputs": [],
   "source": [
    "# Visualize closest farmer's market per ZCTA"
   ]
  },
  {
   "cell_type": "code",
   "execution_count": null,
   "id": "ce80cb60-897b-480a-9b51-3550612f4361",
   "metadata": {},
   "outputs": [],
   "source": [
    "# Produce ZCTA ranking based on mean/med rent, report highest and lowest ranking ZCTAs (e.g. top 5 and bottom 5)"
   ]
  },
  {
   "cell_type": "code",
   "execution_count": null,
   "id": "fd6b09eb-f82e-4ef1-bbc7-b0a63e1f3403",
   "metadata": {},
   "outputs": [],
   "source": [
    "# Convert indicator values into suitability score by normalizing values into suitability index ranging from zero to one"
   ]
  },
  {
   "cell_type": "markdown",
   "id": "657a6f9c-ef38-43a0-b3cc-be5c5419c1b9",
   "metadata": {},
   "source": [
    "---\n",
    "\n",
    "**4. Transit stop density (stop per square km):**"
   ]
  },
  {
   "cell_type": "code",
   "execution_count": null,
   "id": "30c0f33a-5744-463c-adda-fed4d1ec6d9d",
   "metadata": {},
   "outputs": [],
   "source": [
    "# Visualize spatial data - bus and transit stop locations:"
   ]
  },
  {
   "cell_type": "code",
   "execution_count": null,
   "id": "b3dd1396-cecc-4707-a459-d7eb34fe1d75",
   "metadata": {},
   "outputs": [],
   "source": [
    "# Summarize indicator values - stop per square km per ZCTA:\n",
    "# Density per ZCTA function"
   ]
  },
  {
   "cell_type": "code",
   "execution_count": null,
   "id": "4cbd513b-e71d-4399-bff5-fe4239d85e55",
   "metadata": {},
   "outputs": [],
   "source": [
    "# Visualize transit stop density per ZCTA"
   ]
  },
  {
   "cell_type": "code",
   "execution_count": null,
   "id": "e00ef75b-fd0b-45a8-ba52-8b158184bbab",
   "metadata": {},
   "outputs": [],
   "source": [
    "# Produce ZCTA ranking based on mean/med rent, report highest and lowest ranking ZCTAs (e.g. top 5 and bottom 5)"
   ]
  },
  {
   "cell_type": "code",
   "execution_count": null,
   "id": "aa2caf35-da8a-463d-8b75-41e7b53c9a26",
   "metadata": {},
   "outputs": [],
   "source": [
    "# Convert indicator values into suitability score by normalizing values into suitability index ranging from zero to one"
   ]
  },
  {
   "cell_type": "markdown",
   "id": "5527a1ea-ef73-496f-b56d-6deb6ff923b6",
   "metadata": {},
   "source": [
    "---\n",
    "\n",
    "**5. Proximity to supermarkets (km):**"
   ]
  },
  {
   "cell_type": "code",
   "execution_count": null,
   "id": "5fb60305-40f2-4b45-b288-5f905c1796c0",
   "metadata": {},
   "outputs": [],
   "source": [
    "# Visualize spatial data - grocery store locations:"
   ]
  },
  {
   "cell_type": "code",
   "execution_count": null,
   "id": "89bd8f76-6734-471f-8b55-65e7d9f656fc",
   "metadata": {},
   "outputs": [],
   "source": [
    "# Summarize indicator values - closest supermarket per ZCTA (euc dis):\n",
    "# Closest POI function"
   ]
  },
  {
   "cell_type": "code",
   "execution_count": null,
   "id": "d2d1f37e-12cc-4eeb-a0f4-e46c67d2fb7c",
   "metadata": {},
   "outputs": [],
   "source": [
    "# Visualize closest supermarket per ZCTA"
   ]
  },
  {
   "cell_type": "code",
   "execution_count": null,
   "id": "b3e573fe-f875-47d1-a1c4-47762117eb24",
   "metadata": {},
   "outputs": [],
   "source": [
    "# Produce ZCTA ranking based on mean/med rent, report highest and lowest ranking ZCTAs (e.g. top 5 and bottom 5)"
   ]
  },
  {
   "cell_type": "code",
   "execution_count": null,
   "id": "30f0acbc-0ed2-4eb5-870a-ef8af8fdc3de",
   "metadata": {},
   "outputs": [],
   "source": [
    "# Convert indicator values into suitability score by normalizing values into suitability index ranging from zero to one"
   ]
  },
  {
   "cell_type": "markdown",
   "id": "995fa0c3-7ba9-466c-b73a-29556e9de80e",
   "metadata": {},
   "source": [
    "---\n",
    "\n",
    "#### Unweighted Suitability Index:\n",
    "\n",
    "- Mean rent payment (USD) = 25%\n",
    "- Population density (population per square km) = 25%\n",
    "- Proximity to farmer's markets (km) = 25%\n",
    "- Transit stop density (stop per square km) = 25%\n",
    "- Proximity to supermarkets (km) = 25%"
   ]
  },
  {
   "cell_type": "code",
   "execution_count": null,
   "id": "b512d9d1-6ff1-4e4b-a909-5ba348225191",
   "metadata": {},
   "outputs": [],
   "source": [
    "unweighted = rent[score] + population[score] + market[score] + transit[score] + grocery [score]\n",
    "unweighted_index_top = unweighted.sort_values('score',ascending=False).head()\n",
    "unweighted_index_bottom = unweighted.sort_values('score',ascending=False).tail()"
   ]
  },
  {
   "cell_type": "code",
   "execution_count": null,
   "id": "6ab45e4f-6ada-4eed-ba8c-618dccf2fc25",
   "metadata": {},
   "outputs": [],
   "source": [
    "#plot unweighted"
   ]
  },
  {
   "cell_type": "markdown",
   "id": "e104baf0-c621-4866-a785-04628e826e6a",
   "metadata": {},
   "source": [
    "---\n",
    "\n",
    "#### Weighted Suitability Index:\n",
    "\n",
    "- Mean rent payment (USD) = 47.5%\n",
    "- Population density (population per square km) = 6.5%\n",
    "- Proximity to farmer's markets (km) = 3.3%\n",
    "- Transit stop density (stop per square km) = 13.5%\n",
    "- Proximity to supermarkets (km) = 29.2%\n",
    "\n",
    "*Weights attributed using AHP method: https://bpmsg.com/ahp/ahp-calc.php*\n"
   ]
  },
  {
   "cell_type": "code",
   "execution_count": null,
   "id": "646681e3-5019-4b11-a885-6875c17ec6fd",
   "metadata": {},
   "outputs": [],
   "source": [
    "weighted = rent[score] * 0.475 + population[score] * 0.065 + market[score] * 0.033 + transit[score] * 0.135 + grocery [score] * 0.292\n",
    "weighted_index_top = weighted.sort_values('score',ascending=False).head()\n",
    "weighted_index_bottom = weighted.sort_values('score',ascending=False).tail()"
   ]
  },
  {
   "cell_type": "code",
   "execution_count": null,
   "id": "d0a790e0-fee5-4965-8fa7-8d4ab13d19fc",
   "metadata": {},
   "outputs": [],
   "source": [
    "#plot weighted"
   ]
  }
 ],
 "metadata": {
  "kernelspec": {
   "display_name": "Python 3",
   "language": "python",
   "name": "python3"
  },
  "language_info": {
   "codemirror_mode": {
    "name": "ipython",
    "version": 3
   },
   "file_extension": ".py",
   "mimetype": "text/x-python",
   "name": "python",
   "nbconvert_exporter": "python",
   "pygments_lexer": "ipython3",
   "version": "3.8.8"
  }
 },
 "nbformat": 4,
 "nbformat_minor": 5
}
