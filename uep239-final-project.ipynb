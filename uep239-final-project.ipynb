{
 "cells": [
  {
   "cell_type": "markdown",
   "id": "8ed74958-5876-4e38-8ceb-1c4ce6bb8799",
   "metadata": {},
   "source": [
    "# UEP 239 Final Project\n",
    "#### Jess Wilson - May 2021\n",
    "\n",
    "---\n",
    "\n",
    "### Goal of Project:\n",
    "- Discover the most suitable zip code tabulation areas (ZCTAs) for young professionals to move to in Metro Boston. \n",
    "\n",
    "### Suitability Indicator Variables: \n",
    "1. Mean rent payment (USD)\n",
    "2. Population density (population per square km)\n",
    "3. Proximity to farmer's markets (km)\n",
    "4. Transit stop density (stop per square km)\n",
    "5. Proximity to supermarkets (km)\n",
    "\n",
    "---\n",
    "\n",
    "#### Instructions on How to Run:\n",
    "- All instructions can be found in the README.md, including how to load and run environment and download necessary datasets \n",
    "- Environment (environment.yml) and data directory (uep239-final-project-data) are located in repository"
   ]
  },
  {
   "cell_type": "markdown",
   "id": "b1396488-86d2-4687-b280-c0de0877da01",
   "metadata": {},
   "source": [
    "---\n",
    "\n",
    "#### Importing Relevant Libraries:"
   ]
  },
  {
   "cell_type": "code",
   "execution_count": 1,
   "id": "b46c1b99-a522-4d16-bfd4-37bbb10c3c80",
   "metadata": {},
   "outputs": [],
   "source": [
    "import numpy as np               # Load numpy, for scientific computing\n",
    "import pandas as pd              # Load pandas, for data frame manipulation \n",
    "import geopandas as gpd          # Load geopandas, for pandas manipulation with geospatial components\n",
    "import matplotlib.pyplot as plt  # Load matplotlib, for plotting and mappingdata\n",
    "import seaborn as sns            # Load seaborn, for additional plotting features \n",
    "import folium                    # Load folium, for interactive maps\n",
    "import os                        # Load OS, for operating system work\n",
    "import contextily as cx          # Load contextily, for basemaps"
   ]
  },
  {
   "cell_type": "markdown",
   "id": "34e851a0-c320-4487-b567-e92139ce79ea",
   "metadata": {},
   "source": [
    "---\n",
    "\n",
    "#### Setting Working Directory:"
   ]
  },
  {
   "cell_type": "code",
   "execution_count": 6,
   "id": "a3717069-edcb-4d77-a9fc-d53713bfeb5f",
   "metadata": {},
   "outputs": [
    {
     "name": "stdout",
     "output_type": "stream",
     "text": [
      "Path changed to: z:\\OneDrive\\Documentos\\GPwP\\uep239-final-project\\uep239-final-project-data\n"
     ]
    }
   ],
   "source": [
    "# Pass the raw string (r) path of the directory in which you downloaded the project data\n",
    "os.chdir(os.path.dirname(r\"z:/OneDrive/Documentos/GPwP/uep239-final-project/uep239-final-project-data/\"))\n",
    "# Print working directory\n",
    "print(\"Path changed to: \"+os.getcwd())"
   ]
  },
  {
   "cell_type": "markdown",
   "id": "a532fffd-1180-437c-90b4-24668f523c02",
   "metadata": {},
   "source": [
    "---\n",
    "\n",
    "#### Read in Relevant Data Sets and Clean Data:\n",
    "\n"
   ]
  },
  {
   "cell_type": "markdown",
   "id": "8112048b-eca3-49b2-af9c-061bb35cd0d3",
   "metadata": {},
   "source": [
    "---\n",
    "\n",
    "**Population:**"
   ]
  },
  {
   "cell_type": "code",
   "execution_count": 36,
   "id": "77ddf3d2-50bf-4031-9ffb-a1012d9affa6",
   "metadata": {},
   "outputs": [
    {
     "name": "stdout",
     "output_type": "stream",
     "text": [
      "<class 'pandas.core.frame.DataFrame'>\n",
      "RangeIndex: 537 entries, 0 to 536\n",
      "Columns: 458 entries, GEO_ID to S0101_C06_038M\n",
      "dtypes: int64(186), object(272)\n",
      "memory usage: 1.9+ MB\n"
     ]
    },
    {
     "data": {
      "text/html": [
       "<div>\n",
       "<style scoped>\n",
       "    .dataframe tbody tr th:only-of-type {\n",
       "        vertical-align: middle;\n",
       "    }\n",
       "\n",
       "    .dataframe tbody tr th {\n",
       "        vertical-align: top;\n",
       "    }\n",
       "\n",
       "    .dataframe thead th {\n",
       "        text-align: right;\n",
       "    }\n",
       "</style>\n",
       "<table border=\"1\" class=\"dataframe\">\n",
       "  <thead>\n",
       "    <tr style=\"text-align: right;\">\n",
       "      <th></th>\n",
       "      <th>GEO_ID</th>\n",
       "      <th>NAME</th>\n",
       "      <th>S0101_C01_001E</th>\n",
       "      <th>S0101_C01_001M</th>\n",
       "      <th>S0101_C01_002E</th>\n",
       "      <th>S0101_C01_002M</th>\n",
       "      <th>S0101_C01_003E</th>\n",
       "      <th>S0101_C01_003M</th>\n",
       "      <th>S0101_C01_004E</th>\n",
       "      <th>S0101_C01_004M</th>\n",
       "      <th>...</th>\n",
       "      <th>S0101_C06_034E</th>\n",
       "      <th>S0101_C06_034M</th>\n",
       "      <th>S0101_C06_035E</th>\n",
       "      <th>S0101_C06_035M</th>\n",
       "      <th>S0101_C06_036E</th>\n",
       "      <th>S0101_C06_036M</th>\n",
       "      <th>S0101_C06_037E</th>\n",
       "      <th>S0101_C06_037M</th>\n",
       "      <th>S0101_C06_038E</th>\n",
       "      <th>S0101_C06_038M</th>\n",
       "    </tr>\n",
       "  </thead>\n",
       "  <tbody>\n",
       "    <tr>\n",
       "      <th>0</th>\n",
       "      <td>8600000US01001</td>\n",
       "      <td>ZCTA5 01001</td>\n",
       "      <td>17312</td>\n",
       "      <td>735</td>\n",
       "      <td>956</td>\n",
       "      <td>233</td>\n",
       "      <td>863</td>\n",
       "      <td>222</td>\n",
       "      <td>967</td>\n",
       "      <td>274</td>\n",
       "      <td>...</td>\n",
       "      <td>(X)</td>\n",
       "      <td>(X)</td>\n",
       "      <td>(X)</td>\n",
       "      <td>(X)</td>\n",
       "      <td>(X)</td>\n",
       "      <td>(X)</td>\n",
       "      <td>(X)</td>\n",
       "      <td>(X)</td>\n",
       "      <td>(X)</td>\n",
       "      <td>(X)</td>\n",
       "    </tr>\n",
       "    <tr>\n",
       "      <th>1</th>\n",
       "      <td>8600000US01002</td>\n",
       "      <td>ZCTA5 01002</td>\n",
       "      <td>30014</td>\n",
       "      <td>485</td>\n",
       "      <td>872</td>\n",
       "      <td>143</td>\n",
       "      <td>1043</td>\n",
       "      <td>192</td>\n",
       "      <td>1123</td>\n",
       "      <td>215</td>\n",
       "      <td>...</td>\n",
       "      <td>(X)</td>\n",
       "      <td>(X)</td>\n",
       "      <td>(X)</td>\n",
       "      <td>(X)</td>\n",
       "      <td>(X)</td>\n",
       "      <td>(X)</td>\n",
       "      <td>(X)</td>\n",
       "      <td>(X)</td>\n",
       "      <td>(X)</td>\n",
       "      <td>(X)</td>\n",
       "    </tr>\n",
       "    <tr>\n",
       "      <th>2</th>\n",
       "      <td>8600000US01003</td>\n",
       "      <td>ZCTA5 01003</td>\n",
       "      <td>11357</td>\n",
       "      <td>477</td>\n",
       "      <td>0</td>\n",
       "      <td>19</td>\n",
       "      <td>0</td>\n",
       "      <td>19</td>\n",
       "      <td>0</td>\n",
       "      <td>19</td>\n",
       "      <td>...</td>\n",
       "      <td>(X)</td>\n",
       "      <td>(X)</td>\n",
       "      <td>(X)</td>\n",
       "      <td>(X)</td>\n",
       "      <td>(X)</td>\n",
       "      <td>(X)</td>\n",
       "      <td>(X)</td>\n",
       "      <td>(X)</td>\n",
       "      <td>(X)</td>\n",
       "      <td>(X)</td>\n",
       "    </tr>\n",
       "    <tr>\n",
       "      <th>3</th>\n",
       "      <td>8600000US01005</td>\n",
       "      <td>ZCTA5 01005</td>\n",
       "      <td>5128</td>\n",
       "      <td>404</td>\n",
       "      <td>127</td>\n",
       "      <td>72</td>\n",
       "      <td>199</td>\n",
       "      <td>139</td>\n",
       "      <td>408</td>\n",
       "      <td>153</td>\n",
       "      <td>...</td>\n",
       "      <td>(X)</td>\n",
       "      <td>(X)</td>\n",
       "      <td>(X)</td>\n",
       "      <td>(X)</td>\n",
       "      <td>(X)</td>\n",
       "      <td>(X)</td>\n",
       "      <td>(X)</td>\n",
       "      <td>(X)</td>\n",
       "      <td>(X)</td>\n",
       "      <td>(X)</td>\n",
       "    </tr>\n",
       "    <tr>\n",
       "      <th>4</th>\n",
       "      <td>8600000US01007</td>\n",
       "      <td>ZCTA5 01007</td>\n",
       "      <td>15005</td>\n",
       "      <td>20</td>\n",
       "      <td>879</td>\n",
       "      <td>183</td>\n",
       "      <td>828</td>\n",
       "      <td>186</td>\n",
       "      <td>969</td>\n",
       "      <td>193</td>\n",
       "      <td>...</td>\n",
       "      <td>(X)</td>\n",
       "      <td>(X)</td>\n",
       "      <td>(X)</td>\n",
       "      <td>(X)</td>\n",
       "      <td>(X)</td>\n",
       "      <td>(X)</td>\n",
       "      <td>(X)</td>\n",
       "      <td>(X)</td>\n",
       "      <td>(X)</td>\n",
       "      <td>(X)</td>\n",
       "    </tr>\n",
       "  </tbody>\n",
       "</table>\n",
       "<p>5 rows × 458 columns</p>\n",
       "</div>"
      ],
      "text/plain": [
       "           GEO_ID         NAME  S0101_C01_001E  S0101_C01_001M  \\\n",
       "0  8600000US01001  ZCTA5 01001           17312             735   \n",
       "1  8600000US01002  ZCTA5 01002           30014             485   \n",
       "2  8600000US01003  ZCTA5 01003           11357             477   \n",
       "3  8600000US01005  ZCTA5 01005            5128             404   \n",
       "4  8600000US01007  ZCTA5 01007           15005              20   \n",
       "\n",
       "   S0101_C01_002E  S0101_C01_002M  S0101_C01_003E  S0101_C01_003M  \\\n",
       "0             956             233             863             222   \n",
       "1             872             143            1043             192   \n",
       "2               0              19               0              19   \n",
       "3             127              72             199             139   \n",
       "4             879             183             828             186   \n",
       "\n",
       "   S0101_C01_004E  S0101_C01_004M  ...  S0101_C06_034E  S0101_C06_034M  \\\n",
       "0             967             274  ...             (X)             (X)   \n",
       "1            1123             215  ...             (X)             (X)   \n",
       "2               0              19  ...             (X)             (X)   \n",
       "3             408             153  ...             (X)             (X)   \n",
       "4             969             193  ...             (X)             (X)   \n",
       "\n",
       "   S0101_C06_035E  S0101_C06_035M  S0101_C06_036E  S0101_C06_036M  \\\n",
       "0             (X)             (X)             (X)             (X)   \n",
       "1             (X)             (X)             (X)             (X)   \n",
       "2             (X)             (X)             (X)             (X)   \n",
       "3             (X)             (X)             (X)             (X)   \n",
       "4             (X)             (X)             (X)             (X)   \n",
       "\n",
       "   S0101_C06_037E  S0101_C06_037M  S0101_C06_038E  S0101_C06_038M  \n",
       "0             (X)             (X)             (X)             (X)  \n",
       "1             (X)             (X)             (X)             (X)  \n",
       "2             (X)             (X)             (X)             (X)  \n",
       "3             (X)             (X)             (X)             (X)  \n",
       "4             (X)             (X)             (X)             (X)  \n",
       "\n",
       "[5 rows x 458 columns]"
      ]
     },
     "execution_count": 36,
     "metadata": {},
     "output_type": "execute_result"
    }
   ],
   "source": [
    "# Read in ZCTA population data:\n",
    "population_raw = pd.read_csv(r\"tabular/Population/population.csv\", skiprows = [1])\n",
    "\n",
    "# Observe data:\n",
    "population_raw.info()\n",
    "population_raw.head()"
   ]
  },
  {
   "cell_type": "code",
   "execution_count": 39,
   "id": "f7e84ef6-a45d-4878-a409-7773ff6e1788",
   "metadata": {},
   "outputs": [
    {
     "data": {
      "text/html": [
       "<div>\n",
       "<style scoped>\n",
       "    .dataframe tbody tr th:only-of-type {\n",
       "        vertical-align: middle;\n",
       "    }\n",
       "\n",
       "    .dataframe tbody tr th {\n",
       "        vertical-align: top;\n",
       "    }\n",
       "\n",
       "    .dataframe thead th {\n",
       "        text-align: right;\n",
       "    }\n",
       "</style>\n",
       "<table border=\"1\" class=\"dataframe\">\n",
       "  <thead>\n",
       "    <tr style=\"text-align: right;\">\n",
       "      <th></th>\n",
       "      <th>GEO_ID</th>\n",
       "      <th>NAME</th>\n",
       "      <th>Total_Population</th>\n",
       "    </tr>\n",
       "  </thead>\n",
       "  <tbody>\n",
       "    <tr>\n",
       "      <th>0</th>\n",
       "      <td>8600000US01001</td>\n",
       "      <td>ZCTA5 01001</td>\n",
       "      <td>17312</td>\n",
       "    </tr>\n",
       "    <tr>\n",
       "      <th>1</th>\n",
       "      <td>8600000US01002</td>\n",
       "      <td>ZCTA5 01002</td>\n",
       "      <td>30014</td>\n",
       "    </tr>\n",
       "    <tr>\n",
       "      <th>2</th>\n",
       "      <td>8600000US01003</td>\n",
       "      <td>ZCTA5 01003</td>\n",
       "      <td>11357</td>\n",
       "    </tr>\n",
       "    <tr>\n",
       "      <th>3</th>\n",
       "      <td>8600000US01005</td>\n",
       "      <td>ZCTA5 01005</td>\n",
       "      <td>5128</td>\n",
       "    </tr>\n",
       "    <tr>\n",
       "      <th>4</th>\n",
       "      <td>8600000US01007</td>\n",
       "      <td>ZCTA5 01007</td>\n",
       "      <td>15005</td>\n",
       "    </tr>\n",
       "  </tbody>\n",
       "</table>\n",
       "</div>"
      ],
      "text/plain": [
       "           GEO_ID         NAME  Total_Population\n",
       "0  8600000US01001  ZCTA5 01001             17312\n",
       "1  8600000US01002  ZCTA5 01002             30014\n",
       "2  8600000US01003  ZCTA5 01003             11357\n",
       "3  8600000US01005  ZCTA5 01005              5128\n",
       "4  8600000US01007  ZCTA5 01007             15005"
      ]
     },
     "execution_count": 39,
     "metadata": {},
     "output_type": "execute_result"
    }
   ],
   "source": [
    "# Rename population column:\n",
    "population_raw.rename(columns = {'S0101_C01_001E' : 'Total_Population'}, inplace = True)\n",
    "\n",
    "# Subset data into only the necessary columns for analysis:\n",
    "population = population_raw[[\"GEO_ID\", \"NAME\", \"Total_Population\"]]\n",
    "population.head()"
   ]
  },
  {
   "cell_type": "markdown",
   "id": "b2abad01-807a-44bd-81c7-b65358208acb",
   "metadata": {},
   "source": [
    "---\n",
    "\n",
    "**Monthly Rent:**"
   ]
  },
  {
   "cell_type": "code",
   "execution_count": 41,
   "id": "80110881-346a-4a87-b9ad-ba658c79d168",
   "metadata": {},
   "outputs": [
    {
     "name": "stdout",
     "output_type": "stream",
     "text": [
      "<class 'pandas.core.frame.DataFrame'>\n",
      "RangeIndex: 537 entries, 0 to 536\n",
      "Columns: 554 entries, GEO_ID to S2503_C06_046M\n",
      "dtypes: int64(266), object(288)\n",
      "memory usage: 2.3+ MB\n"
     ]
    },
    {
     "data": {
      "text/html": [
       "<div>\n",
       "<style scoped>\n",
       "    .dataframe tbody tr th:only-of-type {\n",
       "        vertical-align: middle;\n",
       "    }\n",
       "\n",
       "    .dataframe tbody tr th {\n",
       "        vertical-align: top;\n",
       "    }\n",
       "\n",
       "    .dataframe thead th {\n",
       "        text-align: right;\n",
       "    }\n",
       "</style>\n",
       "<table border=\"1\" class=\"dataframe\">\n",
       "  <thead>\n",
       "    <tr style=\"text-align: right;\">\n",
       "      <th></th>\n",
       "      <th>GEO_ID</th>\n",
       "      <th>NAME</th>\n",
       "      <th>S2503_C01_001E</th>\n",
       "      <th>S2503_C01_001M</th>\n",
       "      <th>S2503_C01_002E</th>\n",
       "      <th>S2503_C01_002M</th>\n",
       "      <th>S2503_C01_003E</th>\n",
       "      <th>S2503_C01_003M</th>\n",
       "      <th>S2503_C01_004E</th>\n",
       "      <th>S2503_C01_004M</th>\n",
       "      <th>...</th>\n",
       "      <th>S2503_C06_042E</th>\n",
       "      <th>S2503_C06_042M</th>\n",
       "      <th>S2503_C06_043E</th>\n",
       "      <th>S2503_C06_043M</th>\n",
       "      <th>S2503_C06_044E</th>\n",
       "      <th>S2503_C06_044M</th>\n",
       "      <th>S2503_C06_045E</th>\n",
       "      <th>S2503_C06_045M</th>\n",
       "      <th>S2503_C06_046E</th>\n",
       "      <th>S2503_C06_046M</th>\n",
       "    </tr>\n",
       "  </thead>\n",
       "  <tbody>\n",
       "    <tr>\n",
       "      <th>0</th>\n",
       "      <td>8600000US01001</td>\n",
       "      <td>ZCTA5 01001</td>\n",
       "      <td>7413</td>\n",
       "      <td>322</td>\n",
       "      <td>230</td>\n",
       "      <td>138</td>\n",
       "      <td>163</td>\n",
       "      <td>105</td>\n",
       "      <td>320</td>\n",
       "      <td>113</td>\n",
       "      <td>...</td>\n",
       "      <td>15.6</td>\n",
       "      <td>6.9</td>\n",
       "      <td>1.6</td>\n",
       "      <td>1.8</td>\n",
       "      <td>0.0</td>\n",
       "      <td>1.7</td>\n",
       "      <td>2.1</td>\n",
       "      <td>1.7</td>\n",
       "      <td>7.9</td>\n",
       "      <td>3.5</td>\n",
       "    </tr>\n",
       "    <tr>\n",
       "      <th>1</th>\n",
       "      <td>8600000US01002</td>\n",
       "      <td>ZCTA5 01002</td>\n",
       "      <td>9798</td>\n",
       "      <td>451</td>\n",
       "      <td>562</td>\n",
       "      <td>198</td>\n",
       "      <td>376</td>\n",
       "      <td>130</td>\n",
       "      <td>465</td>\n",
       "      <td>212</td>\n",
       "      <td>...</td>\n",
       "      <td>9.3</td>\n",
       "      <td>3.0</td>\n",
       "      <td>10.7</td>\n",
       "      <td>3.7</td>\n",
       "      <td>2.6</td>\n",
       "      <td>2.2</td>\n",
       "      <td>6.3</td>\n",
       "      <td>3.2</td>\n",
       "      <td>1.1</td>\n",
       "      <td>0.9</td>\n",
       "    </tr>\n",
       "    <tr>\n",
       "      <th>2</th>\n",
       "      <td>8600000US01003</td>\n",
       "      <td>ZCTA5 01003</td>\n",
       "      <td>42</td>\n",
       "      <td>42</td>\n",
       "      <td>24</td>\n",
       "      <td>38</td>\n",
       "      <td>0</td>\n",
       "      <td>19</td>\n",
       "      <td>14</td>\n",
       "      <td>20</td>\n",
       "      <td>...</td>\n",
       "      <td>0.0</td>\n",
       "      <td>49.9</td>\n",
       "      <td>0.0</td>\n",
       "      <td>49.9</td>\n",
       "      <td>0.0</td>\n",
       "      <td>49.9</td>\n",
       "      <td>63.2</td>\n",
       "      <td>53.3</td>\n",
       "      <td>0.0</td>\n",
       "      <td>49.9</td>\n",
       "    </tr>\n",
       "    <tr>\n",
       "      <th>3</th>\n",
       "      <td>8600000US01005</td>\n",
       "      <td>ZCTA5 01005</td>\n",
       "      <td>1944</td>\n",
       "      <td>232</td>\n",
       "      <td>51</td>\n",
       "      <td>50</td>\n",
       "      <td>27</td>\n",
       "      <td>44</td>\n",
       "      <td>34</td>\n",
       "      <td>50</td>\n",
       "      <td>...</td>\n",
       "      <td>28.1</td>\n",
       "      <td>29.3</td>\n",
       "      <td>0.0</td>\n",
       "      <td>12.1</td>\n",
       "      <td>0.0</td>\n",
       "      <td>12.1</td>\n",
       "      <td>0.0</td>\n",
       "      <td>12.1</td>\n",
       "      <td>17.4</td>\n",
       "      <td>18.0</td>\n",
       "    </tr>\n",
       "    <tr>\n",
       "      <th>4</th>\n",
       "      <td>8600000US01007</td>\n",
       "      <td>ZCTA5 01007</td>\n",
       "      <td>5563</td>\n",
       "      <td>196</td>\n",
       "      <td>81</td>\n",
       "      <td>65</td>\n",
       "      <td>109</td>\n",
       "      <td>107</td>\n",
       "      <td>105</td>\n",
       "      <td>90</td>\n",
       "      <td>...</td>\n",
       "      <td>14.1</td>\n",
       "      <td>7.1</td>\n",
       "      <td>13.5</td>\n",
       "      <td>11.0</td>\n",
       "      <td>0.0</td>\n",
       "      <td>3.3</td>\n",
       "      <td>0.0</td>\n",
       "      <td>3.3</td>\n",
       "      <td>4.6</td>\n",
       "      <td>5.2</td>\n",
       "    </tr>\n",
       "  </tbody>\n",
       "</table>\n",
       "<p>5 rows × 554 columns</p>\n",
       "</div>"
      ],
      "text/plain": [
       "           GEO_ID         NAME  S2503_C01_001E  S2503_C01_001M  \\\n",
       "0  8600000US01001  ZCTA5 01001            7413             322   \n",
       "1  8600000US01002  ZCTA5 01002            9798             451   \n",
       "2  8600000US01003  ZCTA5 01003              42              42   \n",
       "3  8600000US01005  ZCTA5 01005            1944             232   \n",
       "4  8600000US01007  ZCTA5 01007            5563             196   \n",
       "\n",
       "   S2503_C01_002E  S2503_C01_002M  S2503_C01_003E  S2503_C01_003M  \\\n",
       "0             230             138             163             105   \n",
       "1             562             198             376             130   \n",
       "2              24              38               0              19   \n",
       "3              51              50              27              44   \n",
       "4              81              65             109             107   \n",
       "\n",
       "   S2503_C01_004E  S2503_C01_004M  ...  S2503_C06_042E  S2503_C06_042M  \\\n",
       "0             320             113  ...            15.6             6.9   \n",
       "1             465             212  ...             9.3             3.0   \n",
       "2              14              20  ...             0.0            49.9   \n",
       "3              34              50  ...            28.1            29.3   \n",
       "4             105              90  ...            14.1             7.1   \n",
       "\n",
       "   S2503_C06_043E  S2503_C06_043M  S2503_C06_044E  S2503_C06_044M  \\\n",
       "0             1.6             1.8             0.0             1.7   \n",
       "1            10.7             3.7             2.6             2.2   \n",
       "2             0.0            49.9             0.0            49.9   \n",
       "3             0.0            12.1             0.0            12.1   \n",
       "4            13.5            11.0             0.0             3.3   \n",
       "\n",
       "   S2503_C06_045E  S2503_C06_045M  S2503_C06_046E  S2503_C06_046M  \n",
       "0             2.1             1.7             7.9             3.5  \n",
       "1             6.3             3.2             1.1             0.9  \n",
       "2            63.2            53.3             0.0            49.9  \n",
       "3             0.0            12.1            17.4            18.0  \n",
       "4             0.0             3.3             4.6             5.2  \n",
       "\n",
       "[5 rows x 554 columns]"
      ]
     },
     "execution_count": 41,
     "metadata": {},
     "output_type": "execute_result"
    }
   ],
   "source": [
    "# Read in median monthly rent data:\n",
    "rent_raw = pd.read_csv(r\"tabular/Rent/rent.csv\", skiprows = [1])\n",
    "\n",
    "# Observe data:\n",
    "rent_raw.info()\n",
    "rent_raw.head()"
   ]
  },
  {
   "cell_type": "code",
   "execution_count": 48,
   "id": "37342ad2-162a-446b-98a1-2c05f3bf9dc4",
   "metadata": {},
   "outputs": [
    {
     "data": {
      "text/html": [
       "<div>\n",
       "<style scoped>\n",
       "    .dataframe tbody tr th:only-of-type {\n",
       "        vertical-align: middle;\n",
       "    }\n",
       "\n",
       "    .dataframe tbody tr th {\n",
       "        vertical-align: top;\n",
       "    }\n",
       "\n",
       "    .dataframe thead th {\n",
       "        text-align: right;\n",
       "    }\n",
       "</style>\n",
       "<table border=\"1\" class=\"dataframe\">\n",
       "  <thead>\n",
       "    <tr style=\"text-align: right;\">\n",
       "      <th></th>\n",
       "      <th>GEO_ID</th>\n",
       "      <th>NAME</th>\n",
       "      <th>Median_Rent</th>\n",
       "    </tr>\n",
       "  </thead>\n",
       "  <tbody>\n",
       "    <tr>\n",
       "      <th>0</th>\n",
       "      <td>8600000US01001</td>\n",
       "      <td>ZCTA5 01001</td>\n",
       "      <td>1148</td>\n",
       "    </tr>\n",
       "    <tr>\n",
       "      <th>1</th>\n",
       "      <td>8600000US01002</td>\n",
       "      <td>ZCTA5 01002</td>\n",
       "      <td>1380</td>\n",
       "    </tr>\n",
       "    <tr>\n",
       "      <th>2</th>\n",
       "      <td>8600000US01003</td>\n",
       "      <td>ZCTA5 01003</td>\n",
       "      <td>NaN</td>\n",
       "    </tr>\n",
       "    <tr>\n",
       "      <th>3</th>\n",
       "      <td>8600000US01005</td>\n",
       "      <td>ZCTA5 01005</td>\n",
       "      <td>965</td>\n",
       "    </tr>\n",
       "    <tr>\n",
       "      <th>4</th>\n",
       "      <td>8600000US01007</td>\n",
       "      <td>ZCTA5 01007</td>\n",
       "      <td>975</td>\n",
       "    </tr>\n",
       "  </tbody>\n",
       "</table>\n",
       "</div>"
      ],
      "text/plain": [
       "           GEO_ID         NAME Median_Rent\n",
       "0  8600000US01001  ZCTA5 01001        1148\n",
       "1  8600000US01002  ZCTA5 01002        1380\n",
       "2  8600000US01003  ZCTA5 01003         NaN\n",
       "3  8600000US01005  ZCTA5 01005         965\n",
       "4  8600000US01007  ZCTA5 01007         975"
      ]
     },
     "execution_count": 48,
     "metadata": {},
     "output_type": "execute_result"
    }
   ],
   "source": [
    "# Rename rent column:\n",
    "rent_raw.rename(columns = {\"S2503_C05_024E\" : \"Median_Rent\"}, inplace = True)\n",
    "# Replace empty values:\n",
    "rent_raw = rent_raw.replace('-', np.NaN)\n",
    "\n",
    "# Subset data into only the necessary columns for analysis:\n",
    "rent = rent_raw[[\"GEO_ID\", \"NAME\", \"Median_Rent\"]]\n",
    "rent.head()"
   ]
  },
  {
   "cell_type": "markdown",
   "id": "70a7faa3-59ff-437f-a43b-d70bd12c2940",
   "metadata": {},
   "source": [
    "---\n",
    "\n",
    "**Grocery Stores:**"
   ]
  },
  {
   "cell_type": "code",
   "execution_count": 49,
   "id": "8ca6f68c-d5c6-42a3-943a-afd28fbb970c",
   "metadata": {},
   "outputs": [
    {
     "name": "stdout",
     "output_type": "stream",
     "text": [
      "<class 'pandas.core.frame.DataFrame'>\n",
      "RangeIndex: 274 entries, 0 to 273\n",
      "Data columns (total 7 columns):\n",
      " #   Column        Non-Null Count  Dtype  \n",
      "---  ------        --------------  -----  \n",
      " 0   Company Name  274 non-null    object \n",
      " 1   Address       274 non-null    object \n",
      " 2   City          274 non-null    object \n",
      " 3   State         274 non-null    object \n",
      " 4   ZIP Code      274 non-null    int64  \n",
      " 5   Latitude      274 non-null    float64\n",
      " 6   Longitude     274 non-null    float64\n",
      "dtypes: float64(2), int64(1), object(4)\n",
      "memory usage: 15.1+ KB\n"
     ]
    },
    {
     "data": {
      "text/html": [
       "<div>\n",
       "<style scoped>\n",
       "    .dataframe tbody tr th:only-of-type {\n",
       "        vertical-align: middle;\n",
       "    }\n",
       "\n",
       "    .dataframe tbody tr th {\n",
       "        vertical-align: top;\n",
       "    }\n",
       "\n",
       "    .dataframe thead th {\n",
       "        text-align: right;\n",
       "    }\n",
       "</style>\n",
       "<table border=\"1\" class=\"dataframe\">\n",
       "  <thead>\n",
       "    <tr style=\"text-align: right;\">\n",
       "      <th></th>\n",
       "      <th>Company Name</th>\n",
       "      <th>Address</th>\n",
       "      <th>City</th>\n",
       "      <th>State</th>\n",
       "      <th>ZIP Code</th>\n",
       "      <th>Latitude</th>\n",
       "      <th>Longitude</th>\n",
       "    </tr>\n",
       "  </thead>\n",
       "  <tbody>\n",
       "    <tr>\n",
       "      <th>0</th>\n",
       "      <td>99 Ranch Market</td>\n",
       "      <td>475 Hancock St # 2</td>\n",
       "      <td>Quincy</td>\n",
       "      <td>MA</td>\n",
       "      <td>2171</td>\n",
       "      <td>42.270653</td>\n",
       "      <td>-71.023292</td>\n",
       "    </tr>\n",
       "    <tr>\n",
       "      <th>1</th>\n",
       "      <td>Big Y</td>\n",
       "      <td>500 Staples Dr</td>\n",
       "      <td>Framingham</td>\n",
       "      <td>MA</td>\n",
       "      <td>1702</td>\n",
       "      <td>42.291206</td>\n",
       "      <td>-71.489449</td>\n",
       "    </tr>\n",
       "    <tr>\n",
       "      <th>2</th>\n",
       "      <td>Big Y</td>\n",
       "      <td>770 Cochituate Rd</td>\n",
       "      <td>Framingham</td>\n",
       "      <td>MA</td>\n",
       "      <td>1701</td>\n",
       "      <td>42.309146</td>\n",
       "      <td>-71.380338</td>\n",
       "    </tr>\n",
       "    <tr>\n",
       "      <th>3</th>\n",
       "      <td>Big Y</td>\n",
       "      <td>348 E Central St</td>\n",
       "      <td>Franklin</td>\n",
       "      <td>MA</td>\n",
       "      <td>2038</td>\n",
       "      <td>42.079076</td>\n",
       "      <td>-71.380864</td>\n",
       "    </tr>\n",
       "    <tr>\n",
       "      <th>4</th>\n",
       "      <td>Big Y</td>\n",
       "      <td>182 Summer St # 1</td>\n",
       "      <td>Kingston</td>\n",
       "      <td>MA</td>\n",
       "      <td>2364</td>\n",
       "      <td>42.011307</td>\n",
       "      <td>-70.735435</td>\n",
       "    </tr>\n",
       "  </tbody>\n",
       "</table>\n",
       "</div>"
      ],
      "text/plain": [
       "      Company Name             Address        City State  ZIP Code   Latitude  \\\n",
       "0  99 Ranch Market  475 Hancock St # 2      Quincy    MA      2171  42.270653   \n",
       "1            Big Y      500 Staples Dr  Framingham    MA      1702  42.291206   \n",
       "2            Big Y   770 Cochituate Rd  Framingham    MA      1701  42.309146   \n",
       "3            Big Y    348 E Central St    Franklin    MA      2038  42.079076   \n",
       "4            Big Y   182 Summer St # 1    Kingston    MA      2364  42.011307   \n",
       "\n",
       "   Longitude  \n",
       "0 -71.023292  \n",
       "1 -71.489449  \n",
       "2 -71.380338  \n",
       "3 -71.380864  \n",
       "4 -70.735435  "
      ]
     },
     "execution_count": 49,
     "metadata": {},
     "output_type": "execute_result"
    }
   ],
   "source": [
    "# Read in grocery store data:\n",
    "grocery_raw = pd.read_csv(r\"tabular/Supermarkets/supermarkets.csv\")\n",
    "\n",
    "# Observe data:\n",
    "grocery_raw.info()\n",
    "grocery_raw.head()"
   ]
  },
  {
   "cell_type": "code",
   "execution_count": 50,
   "id": "60c255c1-f362-4dc8-9600-55580420459a",
   "metadata": {},
   "outputs": [
    {
     "data": {
      "text/html": [
       "<div>\n",
       "<style scoped>\n",
       "    .dataframe tbody tr th:only-of-type {\n",
       "        vertical-align: middle;\n",
       "    }\n",
       "\n",
       "    .dataframe tbody tr th {\n",
       "        vertical-align: top;\n",
       "    }\n",
       "\n",
       "    .dataframe thead th {\n",
       "        text-align: right;\n",
       "    }\n",
       "</style>\n",
       "<table border=\"1\" class=\"dataframe\">\n",
       "  <thead>\n",
       "    <tr style=\"text-align: right;\">\n",
       "      <th></th>\n",
       "      <th>Company Name</th>\n",
       "      <th>Latitude</th>\n",
       "      <th>Longitude</th>\n",
       "    </tr>\n",
       "  </thead>\n",
       "  <tbody>\n",
       "    <tr>\n",
       "      <th>0</th>\n",
       "      <td>99 Ranch Market</td>\n",
       "      <td>42.270653</td>\n",
       "      <td>-71.023292</td>\n",
       "    </tr>\n",
       "    <tr>\n",
       "      <th>1</th>\n",
       "      <td>Big Y</td>\n",
       "      <td>42.291206</td>\n",
       "      <td>-71.489449</td>\n",
       "    </tr>\n",
       "    <tr>\n",
       "      <th>2</th>\n",
       "      <td>Big Y</td>\n",
       "      <td>42.309146</td>\n",
       "      <td>-71.380338</td>\n",
       "    </tr>\n",
       "    <tr>\n",
       "      <th>3</th>\n",
       "      <td>Big Y</td>\n",
       "      <td>42.079076</td>\n",
       "      <td>-71.380864</td>\n",
       "    </tr>\n",
       "    <tr>\n",
       "      <th>4</th>\n",
       "      <td>Big Y</td>\n",
       "      <td>42.011307</td>\n",
       "      <td>-70.735435</td>\n",
       "    </tr>\n",
       "  </tbody>\n",
       "</table>\n",
       "</div>"
      ],
      "text/plain": [
       "      Company Name   Latitude  Longitude\n",
       "0  99 Ranch Market  42.270653 -71.023292\n",
       "1            Big Y  42.291206 -71.489449\n",
       "2            Big Y  42.309146 -71.380338\n",
       "3            Big Y  42.079076 -71.380864\n",
       "4            Big Y  42.011307 -70.735435"
      ]
     },
     "execution_count": 50,
     "metadata": {},
     "output_type": "execute_result"
    }
   ],
   "source": [
    "# Subset data into only the necessary columns for analysis:\n",
    "grocery = grocery_raw[[\"Company Name\", \"Latitude\", \"Longitude\"]]\n",
    "grocery.head()"
   ]
  },
  {
   "cell_type": "markdown",
   "id": "16070edf-b75c-47e1-97af-bd4df5ee48be",
   "metadata": {},
   "source": [
    "---\n",
    "\n",
    "**MPO Boundaries:**"
   ]
  },
  {
   "cell_type": "code",
   "execution_count": 51,
   "id": "8180d4e1-062e-4643-82c7-a2b52d95cb68",
   "metadata": {},
   "outputs": [
    {
     "name": "stdout",
     "output_type": "stream",
     "text": [
      "<class 'geopandas.geodataframe.GeoDataFrame'>\n",
      "RangeIndex: 13 entries, 0 to 12\n",
      "Data columns (total 10 columns):\n",
      " #   Column      Non-Null Count  Dtype   \n",
      "---  ------      --------------  -----   \n",
      " 0   OBJECTID    13 non-null     int64   \n",
      " 1   MPO         13 non-null     object  \n",
      " 2   created_us  0 non-null      object  \n",
      " 3   created_da  13 non-null     object  \n",
      " 4   last_edite  2 non-null      object  \n",
      " 5   last_edi_1  13 non-null     object  \n",
      " 6   GlobalID    13 non-null     object  \n",
      " 7   ShapeSTAre  13 non-null     float64 \n",
      " 8   ShapeSTLen  13 non-null     float64 \n",
      " 9   geometry    13 non-null     geometry\n",
      "dtypes: float64(2), geometry(1), int64(1), object(6)\n",
      "memory usage: 1.1+ KB\n"
     ]
    },
    {
     "data": {
      "text/html": [
       "<div>\n",
       "<style scoped>\n",
       "    .dataframe tbody tr th:only-of-type {\n",
       "        vertical-align: middle;\n",
       "    }\n",
       "\n",
       "    .dataframe tbody tr th {\n",
       "        vertical-align: top;\n",
       "    }\n",
       "\n",
       "    .dataframe thead th {\n",
       "        text-align: right;\n",
       "    }\n",
       "</style>\n",
       "<table border=\"1\" class=\"dataframe\">\n",
       "  <thead>\n",
       "    <tr style=\"text-align: right;\">\n",
       "      <th></th>\n",
       "      <th>OBJECTID</th>\n",
       "      <th>MPO</th>\n",
       "      <th>created_us</th>\n",
       "      <th>created_da</th>\n",
       "      <th>last_edite</th>\n",
       "      <th>last_edi_1</th>\n",
       "      <th>GlobalID</th>\n",
       "      <th>ShapeSTAre</th>\n",
       "      <th>ShapeSTLen</th>\n",
       "      <th>geometry</th>\n",
       "    </tr>\n",
       "  </thead>\n",
       "  <tbody>\n",
       "    <tr>\n",
       "      <th>0</th>\n",
       "      <td>2</td>\n",
       "      <td>Berkshire</td>\n",
       "      <td>None</td>\n",
       "      <td>1970-01-01</td>\n",
       "      <td>None</td>\n",
       "      <td>1970-01-01</td>\n",
       "      <td>{08FDA544-18B0-412A-B442-287E53E987F7}</td>\n",
       "      <td>2.451015e+09</td>\n",
       "      <td>2.471530e+05</td>\n",
       "      <td>POLYGON ((-8128884.676 5272654.345, -8128962.2...</td>\n",
       "    </tr>\n",
       "    <tr>\n",
       "      <th>1</th>\n",
       "      <td>3</td>\n",
       "      <td>Cape Cod</td>\n",
       "      <td>None</td>\n",
       "      <td>1970-01-01</td>\n",
       "      <td>None</td>\n",
       "      <td>1970-01-01</td>\n",
       "      <td>{B6CD90CF-2F7D-43F2-B251-FA7F8E00EF01}</td>\n",
       "      <td>1.067067e+09</td>\n",
       "      <td>1.288227e+06</td>\n",
       "      <td>MULTIPOLYGON (((-7813968.781 5173329.197, -781...</td>\n",
       "    </tr>\n",
       "    <tr>\n",
       "      <th>2</th>\n",
       "      <td>4</td>\n",
       "      <td>Central Massachusetts</td>\n",
       "      <td>None</td>\n",
       "      <td>1970-01-01</td>\n",
       "      <td>None</td>\n",
       "      <td>1970-01-01</td>\n",
       "      <td>{CC777E14-53C8-42AD-B421-71444DA0BB60}</td>\n",
       "      <td>2.487546e+09</td>\n",
       "      <td>2.683265e+05</td>\n",
       "      <td>POLYGON ((-7977225.352 5223837.273, -7973861.8...</td>\n",
       "    </tr>\n",
       "    <tr>\n",
       "      <th>3</th>\n",
       "      <td>5</td>\n",
       "      <td>Franklin</td>\n",
       "      <td>None</td>\n",
       "      <td>1970-01-01</td>\n",
       "      <td>None</td>\n",
       "      <td>1970-01-01</td>\n",
       "      <td>{4804E708-6B89-4A85-9383-BD91F7589981}</td>\n",
       "      <td>1.876456e+09</td>\n",
       "      <td>2.527017e+05</td>\n",
       "      <td>POLYGON ((-8046511.241 5269691.856, -8045276.8...</td>\n",
       "    </tr>\n",
       "    <tr>\n",
       "      <th>4</th>\n",
       "      <td>6</td>\n",
       "      <td>Montachusett</td>\n",
       "      <td>None</td>\n",
       "      <td>1970-01-01</td>\n",
       "      <td>None</td>\n",
       "      <td>1970-01-01</td>\n",
       "      <td>{F315DA63-C9CF-40EE-8AA7-5ABA2E1FD528}</td>\n",
       "      <td>1.772355e+09</td>\n",
       "      <td>2.748684e+05</td>\n",
       "      <td>POLYGON ((-7976246.504 5267152.001, -7976121.9...</td>\n",
       "    </tr>\n",
       "  </tbody>\n",
       "</table>\n",
       "</div>"
      ],
      "text/plain": [
       "   OBJECTID                    MPO created_us  created_da last_edite  \\\n",
       "0         2              Berkshire       None  1970-01-01       None   \n",
       "1         3               Cape Cod       None  1970-01-01       None   \n",
       "2         4  Central Massachusetts       None  1970-01-01       None   \n",
       "3         5               Franklin       None  1970-01-01       None   \n",
       "4         6           Montachusett       None  1970-01-01       None   \n",
       "\n",
       "   last_edi_1                                GlobalID    ShapeSTAre  \\\n",
       "0  1970-01-01  {08FDA544-18B0-412A-B442-287E53E987F7}  2.451015e+09   \n",
       "1  1970-01-01  {B6CD90CF-2F7D-43F2-B251-FA7F8E00EF01}  1.067067e+09   \n",
       "2  1970-01-01  {CC777E14-53C8-42AD-B421-71444DA0BB60}  2.487546e+09   \n",
       "3  1970-01-01  {4804E708-6B89-4A85-9383-BD91F7589981}  1.876456e+09   \n",
       "4  1970-01-01  {F315DA63-C9CF-40EE-8AA7-5ABA2E1FD528}  1.772355e+09   \n",
       "\n",
       "     ShapeSTLen                                           geometry  \n",
       "0  2.471530e+05  POLYGON ((-8128884.676 5272654.345, -8128962.2...  \n",
       "1  1.288227e+06  MULTIPOLYGON (((-7813968.781 5173329.197, -781...  \n",
       "2  2.683265e+05  POLYGON ((-7977225.352 5223837.273, -7973861.8...  \n",
       "3  2.527017e+05  POLYGON ((-8046511.241 5269691.856, -8045276.8...  \n",
       "4  2.748684e+05  POLYGON ((-7976246.504 5267152.001, -7976121.9...  "
      ]
     },
     "execution_count": 51,
     "metadata": {},
     "output_type": "execute_result"
    }
   ],
   "source": [
    "# Read in MPO boundary data:\n",
    "mpo_raw = gpd.read_file(r\"vector/MPO_Boundaries/mpo_boundaries.shp\")\n",
    "\n",
    "# Observe data:\n",
    "mpo_raw.info()\n",
    "mpo_raw.head()"
   ]
  },
  {
   "cell_type": "code",
   "execution_count": 54,
   "id": "4de3d9e4-e46a-4ae6-9644-8119ed9e679e",
   "metadata": {},
   "outputs": [
    {
     "data": {
      "text/html": [
       "<div>\n",
       "<style scoped>\n",
       "    .dataframe tbody tr th:only-of-type {\n",
       "        vertical-align: middle;\n",
       "    }\n",
       "\n",
       "    .dataframe tbody tr th {\n",
       "        vertical-align: top;\n",
       "    }\n",
       "\n",
       "    .dataframe thead th {\n",
       "        text-align: right;\n",
       "    }\n",
       "</style>\n",
       "<table border=\"1\" class=\"dataframe\">\n",
       "  <thead>\n",
       "    <tr style=\"text-align: right;\">\n",
       "      <th></th>\n",
       "      <th>OBJECTID</th>\n",
       "      <th>MPO</th>\n",
       "      <th>ShapeSTAre</th>\n",
       "      <th>ShapeSTLen</th>\n",
       "      <th>geometry</th>\n",
       "    </tr>\n",
       "  </thead>\n",
       "  <tbody>\n",
       "    <tr>\n",
       "      <th>10</th>\n",
       "      <td>12</td>\n",
       "      <td>Boston Region</td>\n",
       "      <td>3.524379e+09</td>\n",
       "      <td>1.665026e+06</td>\n",
       "      <td>MULTIPOLYGON (((-7875339.226 5247387.185, -787...</td>\n",
       "    </tr>\n",
       "  </tbody>\n",
       "</table>\n",
       "</div>"
      ],
      "text/plain": [
       "    OBJECTID            MPO    ShapeSTAre    ShapeSTLen  \\\n",
       "10        12  Boston Region  3.524379e+09  1.665026e+06   \n",
       "\n",
       "                                             geometry  \n",
       "10  MULTIPOLYGON (((-7875339.226 5247387.185, -787...  "
      ]
     },
     "execution_count": 54,
     "metadata": {},
     "output_type": "execute_result"
    }
   ],
   "source": [
    "# Filter MPO to Boston Region MPO:\n",
    "mpo_raw = mpo_raw[mpo_raw.MPO == \"Boston Region\"]\n",
    "\n",
    "# Subset data into only the necessary columns for analysis:\n",
    "mpo = mpo_raw[[\"OBJECTID\", \"MPO\", \"ShapeSTAre\", \"ShapeSTLen\", \"geometry\"]]\n",
    "mpo.head()"
   ]
  },
  {
   "cell_type": "markdown",
   "id": "8c593c33-0861-4c70-8719-83a66eed2d62",
   "metadata": {},
   "source": [
    "---\n",
    "\n",
    "**MA Town Boundaries:**"
   ]
  },
  {
   "cell_type": "code",
   "execution_count": null,
   "id": "d7c146d5-0e71-4de0-a33e-7b450255fa04",
   "metadata": {},
   "outputs": [],
   "source": [
    "# Read in MA town boundary data:\n",
    "town_raw = gpd.read_file(r\"vector/Town_Boundaries/town_boundaries.shp\")\n",
    "\n",
    "# Observe data:\n",
    "town_raw.info()\n",
    "town_raw.head()\n",
    "town = "
   ]
  },
  {
   "cell_type": "markdown",
   "id": "51be6b9d-94b2-437b-97d9-65d1a096c2de",
   "metadata": {},
   "source": [
    "---\n",
    "\n",
    "**ZCTA Boundaries:**"
   ]
  },
  {
   "cell_type": "code",
   "execution_count": null,
   "id": "79ab014b-dd5d-4392-82b7-c66265bf4c71",
   "metadata": {},
   "outputs": [],
   "source": [
    "# Read in ZCTA boundary data:\n",
    "zcta_raw = gpd.read_file(r\"vector/ZCTA_Boundaries/zcta_boundaries.shp\")\n",
    "\n",
    "# Observe data:\n",
    "zcta_raw.info()\n",
    "zcta_raw.head()\n",
    "zcta = "
   ]
  },
  {
   "cell_type": "markdown",
   "id": "0c1099a7-b121-4724-8b8e-811c38de7962",
   "metadata": {},
   "source": [
    "---\n",
    "\n",
    "**Bus Stops:**"
   ]
  },
  {
   "cell_type": "code",
   "execution_count": null,
   "id": "386e04e4-42a0-477e-933b-0a97f2a16f19",
   "metadata": {},
   "outputs": [],
   "source": [
    "# Read in bus stop data:\n",
    "bus_raw = gpd.read_file(r\"vector/Bus_Stops/bus_stops.shp\")\n",
    "\n",
    "#Observe data:\n",
    "bus_raw.info()\n",
    "bus_raw.head()\n",
    "bus = "
   ]
  },
  {
   "cell_type": "markdown",
   "id": "1bc1e7da-f3c2-4081-8add-362bfed9bed7",
   "metadata": {},
   "source": [
    "---\n",
    "\n",
    "**Transit Stops:**"
   ]
  },
  {
   "cell_type": "code",
   "execution_count": null,
   "id": "5742c0fd-14ce-4579-9d56-88da4b9260f3",
   "metadata": {},
   "outputs": [],
   "source": [
    "# Read in transit stop data:\n",
    "transit_raw = gpd.read_file(r\"vector/Transit_Stops/transit_stops.shp\")\n",
    "\n",
    "# Observe data:\n",
    "transit_raw.info()\n",
    "transit_raw.head()\n",
    "transit = "
   ]
  },
  {
   "cell_type": "markdown",
   "id": "0a9a8d0e-4811-447f-99d8-30b05ba54692",
   "metadata": {},
   "source": [
    "---\n",
    "\n",
    "**Farmer's Markets:**"
   ]
  },
  {
   "cell_type": "code",
   "execution_count": null,
   "id": "7e4c8098-18bb-4870-9395-cae474529000",
   "metadata": {},
   "outputs": [],
   "source": [
    "# Read in farmer's markets data:\n",
    "market_raw = gpd.read_file(r\"vector/Farmers_Markets/farmers_markets.shp\")\n",
    "\n",
    "# Observe data:\n",
    "market_raw.info()\n",
    "market_raw.head()\n",
    "market = "
   ]
  },
  {
   "cell_type": "markdown",
   "id": "7255a2f1-74d1-4c1d-b18c-34dc6ff4b3e4",
   "metadata": {},
   "source": [
    "---\n",
    "\n",
    "#### Data Manipulation, Joining, and Reprojecting:"
   ]
  },
  {
   "cell_type": "code",
   "execution_count": 4,
   "id": "86d942dd-955a-4498-aa59-99540badb2b8",
   "metadata": {},
   "outputs": [],
   "source": [
    "# join MPO with zcta (intersect) and join zcta with town (keep all)\n",
    "# population and rent joined to zcta \n",
    "# join transit with bus (keep all)\n",
    "# convert grocery to gpd using lat/lon"
   ]
  },
  {
   "cell_type": "markdown",
   "id": "37093c4f-adb6-431d-871f-685e12afbaa6",
   "metadata": {},
   "source": [
    "---\n",
    "\n",
    "#### Creation of Basemap:"
   ]
  },
  {
   "cell_type": "code",
   "execution_count": null,
   "id": "a4c75eb4-bc9e-4bc8-9318-55e8c67fc9e6",
   "metadata": {},
   "outputs": [],
   "source": [
    "# zcta map feat. town and mpo\n",
    "# use contextily (cx)"
   ]
  },
  {
   "cell_type": "markdown",
   "id": "6a2c2f80-403d-43a9-92e7-7b37c53cfc83",
   "metadata": {},
   "source": [
    "---\n",
    "\n",
    "#### Analysis of Suitability Indicator Variables:\n",
    "\n",
    "1. Mean rent payment (USD)\n",
    "2. Population density (population per square km)\n",
    "3. Proximity to farmer's markets (km)\n",
    "4. Transit stop density (stop per square km)\n",
    "5. Proximity to supermarkets (km)"
   ]
  },
  {
   "cell_type": "markdown",
   "id": "a897a216-82a9-45bc-b51b-d124805d5a26",
   "metadata": {},
   "source": [
    "---\n",
    "\n",
    "**1. Mean rent payment (USD):**"
   ]
  },
  {
   "cell_type": "code",
   "execution_count": null,
   "id": "882d8bf4-bd28-42f2-97f3-64e04219c73a",
   "metadata": {},
   "outputs": [],
   "source": [
    "# Visualize spatial data - median rent per ZCTA:"
   ]
  },
  {
   "cell_type": "code",
   "execution_count": null,
   "id": "122682d2-0115-4f38-ae49-75700a36f0a7",
   "metadata": {},
   "outputs": [],
   "source": [
    "# Summarize indicator values - mean/median rent per ZCTA:"
   ]
  },
  {
   "cell_type": "code",
   "execution_count": null,
   "id": "1f409e08-2a89-4c32-8a25-90b83e5deba9",
   "metadata": {},
   "outputs": [],
   "source": [
    "# Visualize mean/med rent per ZCTA"
   ]
  },
  {
   "cell_type": "code",
   "execution_count": null,
   "id": "1025449c-e25d-4bf2-bd24-eacad11f25f0",
   "metadata": {},
   "outputs": [],
   "source": [
    "# Produce ZCTA ranking based on mean/med rent, report highest and lowest ranking ZCTAs (e.g. top 5 and bottom 5)"
   ]
  },
  {
   "cell_type": "code",
   "execution_count": null,
   "id": "a5a26932-1ef8-415c-beff-8883d2b6ef72",
   "metadata": {},
   "outputs": [],
   "source": [
    "# Convert indicator values into suitability score by normalizing values into suitability index ranging from zero to one"
   ]
  },
  {
   "cell_type": "markdown",
   "id": "421111d6-fb6c-42bf-aabe-872aadb33e7b",
   "metadata": {},
   "source": [
    "---\n",
    "\n",
    "**2. Population density (population per square km):**"
   ]
  },
  {
   "cell_type": "code",
   "execution_count": null,
   "id": "43aa927f-da7d-41be-a51a-8f009bf98b1e",
   "metadata": {},
   "outputs": [],
   "source": [
    "# Visualize spatial data - population per ZCTA"
   ]
  },
  {
   "cell_type": "code",
   "execution_count": null,
   "id": "7cd6a934-4e5c-46ab-b54a-e46fc43fda50",
   "metadata": {},
   "outputs": [],
   "source": [
    "# Summarize indicator values - population per square km per ZCTA:\n",
    "# Density per ZCTA function"
   ]
  },
  {
   "cell_type": "code",
   "execution_count": null,
   "id": "a0424345-edd6-44ac-aa70-3ee81cb7102b",
   "metadata": {},
   "outputs": [],
   "source": [
    "# Visualize pop density per ZCTA"
   ]
  },
  {
   "cell_type": "code",
   "execution_count": null,
   "id": "20cd1c2e-3f65-4c63-868a-fcc502775e62",
   "metadata": {},
   "outputs": [],
   "source": [
    "# Produce ZCTA ranking based on mean/med rent, report highest and lowest ranking ZCTAs (e.g. top 5 and bottom 5)"
   ]
  },
  {
   "cell_type": "code",
   "execution_count": null,
   "id": "24004eba-bd7a-4be6-9735-8461872c2599",
   "metadata": {},
   "outputs": [],
   "source": [
    "# Convert indicator values into suitability score by normalizing values into suitability index ranging from zero to one"
   ]
  },
  {
   "cell_type": "markdown",
   "id": "16b3b5f4-925d-4522-b388-3fbac2e0feb9",
   "metadata": {},
   "source": [
    "---\n",
    "\n",
    "**3. Proximity to farmer's markets (km):**"
   ]
  },
  {
   "cell_type": "code",
   "execution_count": null,
   "id": "253be528-4b43-4488-a3ef-37e9fc5f6b13",
   "metadata": {},
   "outputs": [],
   "source": [
    "# Visualize spatial data - farmer's market locations:"
   ]
  },
  {
   "cell_type": "code",
   "execution_count": null,
   "id": "1df80e97-0aaa-4697-92e9-6f3aa5a6c5b8",
   "metadata": {},
   "outputs": [],
   "source": [
    "# Summarize indicator values - closest farmer's market per ZCTA (euc dis):\n",
    "# Closest POI function"
   ]
  },
  {
   "cell_type": "code",
   "execution_count": null,
   "id": "d2ce0839-2266-425a-8304-34d1fd138d69",
   "metadata": {},
   "outputs": [],
   "source": [
    "# Visualize closest farmer's market per ZCTA"
   ]
  },
  {
   "cell_type": "code",
   "execution_count": null,
   "id": "ce80cb60-897b-480a-9b51-3550612f4361",
   "metadata": {},
   "outputs": [],
   "source": [
    "# Produce ZCTA ranking based on mean/med rent, report highest and lowest ranking ZCTAs (e.g. top 5 and bottom 5)"
   ]
  },
  {
   "cell_type": "code",
   "execution_count": null,
   "id": "fd6b09eb-f82e-4ef1-bbc7-b0a63e1f3403",
   "metadata": {},
   "outputs": [],
   "source": [
    "# Convert indicator values into suitability score by normalizing values into suitability index ranging from zero to one"
   ]
  },
  {
   "cell_type": "markdown",
   "id": "657a6f9c-ef38-43a0-b3cc-be5c5419c1b9",
   "metadata": {},
   "source": [
    "---\n",
    "\n",
    "**4. Transit stop density (stop per square km):**"
   ]
  },
  {
   "cell_type": "code",
   "execution_count": null,
   "id": "30c0f33a-5744-463c-adda-fed4d1ec6d9d",
   "metadata": {},
   "outputs": [],
   "source": [
    "# Visualize spatial data - bus and transit stop locations:"
   ]
  },
  {
   "cell_type": "code",
   "execution_count": null,
   "id": "b3dd1396-cecc-4707-a459-d7eb34fe1d75",
   "metadata": {},
   "outputs": [],
   "source": [
    "# Summarize indicator values - stop per square km per ZCTA:\n",
    "# Density per ZCTA function"
   ]
  },
  {
   "cell_type": "code",
   "execution_count": null,
   "id": "4cbd513b-e71d-4399-bff5-fe4239d85e55",
   "metadata": {},
   "outputs": [],
   "source": [
    "# Visualize transit stop density per ZCTA"
   ]
  },
  {
   "cell_type": "code",
   "execution_count": null,
   "id": "e00ef75b-fd0b-45a8-ba52-8b158184bbab",
   "metadata": {},
   "outputs": [],
   "source": [
    "# Produce ZCTA ranking based on mean/med rent, report highest and lowest ranking ZCTAs (e.g. top 5 and bottom 5)"
   ]
  },
  {
   "cell_type": "code",
   "execution_count": null,
   "id": "aa2caf35-da8a-463d-8b75-41e7b53c9a26",
   "metadata": {},
   "outputs": [],
   "source": [
    "# Convert indicator values into suitability score by normalizing values into suitability index ranging from zero to one"
   ]
  },
  {
   "cell_type": "markdown",
   "id": "5527a1ea-ef73-496f-b56d-6deb6ff923b6",
   "metadata": {},
   "source": [
    "---\n",
    "\n",
    "**5. Proximity to supermarkets (km):**"
   ]
  },
  {
   "cell_type": "code",
   "execution_count": null,
   "id": "5fb60305-40f2-4b45-b288-5f905c1796c0",
   "metadata": {},
   "outputs": [],
   "source": [
    "# Visualize spatial data - grocery store locations:"
   ]
  },
  {
   "cell_type": "code",
   "execution_count": null,
   "id": "89bd8f76-6734-471f-8b55-65e7d9f656fc",
   "metadata": {},
   "outputs": [],
   "source": [
    "# Summarize indicator values - closest supermarket per ZCTA (euc dis):\n",
    "# Closest POI function"
   ]
  },
  {
   "cell_type": "code",
   "execution_count": null,
   "id": "d2d1f37e-12cc-4eeb-a0f4-e46c67d2fb7c",
   "metadata": {},
   "outputs": [],
   "source": [
    "# Visualize closest supermarket per ZCTA"
   ]
  },
  {
   "cell_type": "code",
   "execution_count": null,
   "id": "b3e573fe-f875-47d1-a1c4-47762117eb24",
   "metadata": {},
   "outputs": [],
   "source": [
    "# Produce ZCTA ranking based on mean/med rent, report highest and lowest ranking ZCTAs (e.g. top 5 and bottom 5)"
   ]
  },
  {
   "cell_type": "code",
   "execution_count": null,
   "id": "30f0acbc-0ed2-4eb5-870a-ef8af8fdc3de",
   "metadata": {},
   "outputs": [],
   "source": [
    "# Convert indicator values into suitability score by normalizing values into suitability index ranging from zero to one"
   ]
  },
  {
   "cell_type": "markdown",
   "id": "995fa0c3-7ba9-466c-b73a-29556e9de80e",
   "metadata": {},
   "source": [
    "---\n",
    "\n",
    "#### Unweighted Suitability Index:\n",
    "\n",
    "- Mean rent payment (USD) = 25%\n",
    "- Population density (population per square km) = 25%\n",
    "- Proximity to farmer's markets (km) = 25%\n",
    "- Transit stop density (stop per square km) = 25%\n",
    "- Proximity to supermarkets (km) = 25%"
   ]
  },
  {
   "cell_type": "code",
   "execution_count": null,
   "id": "b512d9d1-6ff1-4e4b-a909-5ba348225191",
   "metadata": {},
   "outputs": [],
   "source": [
    "unweighted = rent[score] + population[score] + market[score] + transit[score] + grocery [score]\n",
    "unweighted_index_top = unweighted.sort_values('score',ascending=False).head()\n",
    "unweighted_index_bottom = unweighted.sort_values('score',ascending=False).tail()"
   ]
  },
  {
   "cell_type": "code",
   "execution_count": null,
   "id": "6ab45e4f-6ada-4eed-ba8c-618dccf2fc25",
   "metadata": {},
   "outputs": [],
   "source": [
    "#plot unweighted\n",
    "#Interactive map needs to be in WGS84 CRS"
   ]
  },
  {
   "cell_type": "markdown",
   "id": "e104baf0-c621-4866-a785-04628e826e6a",
   "metadata": {},
   "source": [
    "---\n",
    "\n",
    "#### Weighted Suitability Index:\n",
    "\n",
    "- Mean rent payment (USD) = 47.5%\n",
    "- Population density (population per square km) = 6.5%\n",
    "- Proximity to farmer's markets (km) = 3.3%\n",
    "- Transit stop density (stop per square km) = 13.5%\n",
    "- Proximity to supermarkets (km) = 29.2%\n",
    "\n",
    "*Weights attributed using AHP method: https://bpmsg.com/ahp/ahp-calc.php*\n"
   ]
  },
  {
   "cell_type": "code",
   "execution_count": null,
   "id": "646681e3-5019-4b11-a885-6875c17ec6fd",
   "metadata": {},
   "outputs": [],
   "source": [
    "weighted = rent[score] * 0.475 + population[score] * 0.065 + market[score] * 0.033 + transit[score] * 0.135 + grocery [score] * 0.292\n",
    "weighted_index_top = weighted.sort_values('score',ascending=False).head()\n",
    "weighted_index_bottom = weighted.sort_values('score',ascending=False).tail()"
   ]
  },
  {
   "cell_type": "code",
   "execution_count": null,
   "id": "d0a790e0-fee5-4965-8fa7-8d4ab13d19fc",
   "metadata": {},
   "outputs": [],
   "source": [
    "#plot weighted\n",
    "#Interactive map needs to be in WGS84 CRS"
   ]
  }
 ],
 "metadata": {
  "kernelspec": {
   "display_name": "Python 3",
   "language": "python",
   "name": "python3"
  },
  "language_info": {
   "codemirror_mode": {
    "name": "ipython",
    "version": 3
   },
   "file_extension": ".py",
   "mimetype": "text/x-python",
   "name": "python",
   "nbconvert_exporter": "python",
   "pygments_lexer": "ipython3",
   "version": "3.8.8"
  }
 },
 "nbformat": 4,
 "nbformat_minor": 5
}
