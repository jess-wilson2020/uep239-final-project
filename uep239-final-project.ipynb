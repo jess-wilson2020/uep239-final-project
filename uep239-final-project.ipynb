{
 "cells": [
  {
   "cell_type": "markdown",
   "id": "8ed74958-5876-4e38-8ceb-1c4ce6bb8799",
   "metadata": {},
   "source": [
    "# UEP 239 Final Project\n",
    "#### Jess Wilson - May 2021\n",
    "\n",
    "---\n",
    "\n",
    "### Goal of Project:\n",
    "- Discover the most suitable zip code tabulation areas (ZCTAs) for young professionals to move to in Metro Boston. \n",
    "\n",
    "### Suitability Indicator Variables: \n",
    "- Mean rent payment (USD)\n",
    "- Population density (population per square km)\n",
    "- Proximity to parks (km)\n",
    "- Transit stop density (stop per square km)\n",
    "- Proximity to supermarkets (km)\n",
    "\n",
    "---\n",
    "\n",
    "#### Instructions on How to Run:\n",
    "- All instructions can be found in the README.md, including how to load and run environment and necessary datasets \n",
    "- Environment (environment.yml) and data directory (uep239-final-project-data) are located in repository"
   ]
  },
  {
   "cell_type": "markdown",
   "id": "b1396488-86d2-4687-b280-c0de0877da01",
   "metadata": {},
   "source": [
    "---\n",
    "\n",
    "#### Importing Relevant Libraries:"
   ]
  },
  {
   "cell_type": "code",
   "execution_count": 3,
   "id": "b46c1b99-a522-4d16-bfd4-37bbb10c3c80",
   "metadata": {},
   "outputs": [],
   "source": [
    "import numpy as np               # Load numpy, for scientific computing\n",
    "import pandas as pd              # Load pandas, for data frame manipulation \n",
    "#import geopandas as gpd          # Load geopandas, for pandas manipulation with geospatial components\n",
    "import matplotlib.pyplot as plt  # Load matplotlib, for plotting and mappingdata\n",
    "import seaborn as sns            # Load seaborn, for additional plotting features \n",
    "import folium                    # Load folium, for interactive maps\n",
    "import os                        # Load OS, for operating system work"
   ]
  },
  {
   "cell_type": "markdown",
   "id": "34e851a0-c320-4487-b567-e92139ce79ea",
   "metadata": {},
   "source": [
    "---\n",
    "\n",
    "#### Setting Working Directory:"
   ]
  },
  {
   "cell_type": "code",
   "execution_count": 6,
   "id": "a3717069-edcb-4d77-a9fc-d53713bfeb5f",
   "metadata": {},
   "outputs": [
    {
     "name": "stdout",
     "output_type": "stream",
     "text": [
      "Path changed to: C:\\Users\\tiago\\OneDrive\\Documentos\\GPwP\\uep239-final-project-data\n"
     ]
    }
   ],
   "source": [
    "import os  # For operating system work\n",
    "\n",
    "# Pass the raw string (r) path of the directory in which you downloaded the project data\n",
    "os.chdir(os.path.dirname(r\"C:/Users/tiago/OneDrive/Documentos/GPwP/uep239-final-project-data/\"))\n",
    "# Print working directory\n",
    "print(\"Path changed to: \"+os.getcwd())"
   ]
  },
  {
   "cell_type": "markdown",
   "id": "7c224b48-182e-4f08-8d3e-92f6d4397aa5",
   "metadata": {},
   "source": [
    "---\n",
    "\n",
    "#### Reading in Relevant Data:"
   ]
  },
  {
   "cell_type": "code",
   "execution_count": null,
   "id": "89b0c847-78a0-47a6-acdd-d3a5b75a987d",
   "metadata": {},
   "outputs": [],
   "source": [
    "#need csvs: occupancy characteristics or financial characteristics (census)\n",
    "    # format for csv: listings_2021 = pd.read_csv(r'Data/Boston_AirBnB_Feb2021/listings.csv')\n",
    "#need to be fixed:\n",
    "    #bus = \"C:\\Users\\tiago\\OneDrive\\Documentos\\GPwP\\uep239-final-project-data\\vector\\MassDOT\\MBTA_Bus_Stops\\MBTA_Bus_Stops.shp\"\n",
    "    #transit = \"C:\\Users\\tiago\\OneDrive\\Documentos\\GPwP\\uep239-final-project-data\\vector\\MassGIS\\MBTA_NODE\\MBTA_NODE.shp\"\n",
    "#other factors? \n",
    "mpo = gpd.read_file(r\"vector/MassDOT/MPO_Boundaries/MPO_Boundaries.shp\")\n",
    "zcta = gpd.read_file(r\"vector/Census/tl_2010_25_zcta510/tl_2010_25_zcta510.shp\")"
   ]
  }
 ],
 "metadata": {
  "kernelspec": {
   "display_name": "Python 3",
   "language": "python",
   "name": "python3"
  },
  "language_info": {
   "codemirror_mode": {
    "name": "ipython",
    "version": 3
   },
   "file_extension": ".py",
   "mimetype": "text/x-python",
   "name": "python",
   "nbconvert_exporter": "python",
   "pygments_lexer": "ipython3",
   "version": "3.8.8"
  }
 },
 "nbformat": 4,
 "nbformat_minor": 5
}
